{
 "cells": [
  {
   "cell_type": "markdown",
   "id": "52bf12f7",
   "metadata": {},
   "source": [
    "## Configure qiskit_dynamics to use JAX"
   ]
  },
  {
   "cell_type": "code",
   "execution_count": 1,
   "id": "c183a388",
   "metadata": {},
   "outputs": [],
   "source": [
    "# configure jax to use 64 bit mode\n",
    "import jax\n",
    "jax.config.update(\"jax_enable_x64\", True)\n",
    "\n",
    "# tell JAX we are using CPU\n",
    "jax.config.update('jax_platform_name', 'cpu')\n",
    "\n",
    "# import Array and set default backend\n",
    "from qiskit_dynamics.array import Array\n",
    "Array.set_default_backend('jax')\n",
    "\n",
    "import jax.numpy as jnp\n",
    "import numpy as np"
   ]
  },
  {
   "cell_type": "markdown",
   "id": "3e0b7488",
   "metadata": {},
   "source": [
    "## Construct discretized basis for pulse signal"
   ]
  },
  {
   "cell_type": "markdown",
   "id": "c36bdb70",
   "metadata": {},
   "source": [
    "### 1. Chebyshev Basis "
   ]
  },
  {
   "cell_type": "code",
   "execution_count": 2,
   "id": "67134dbf",
   "metadata": {},
   "outputs": [],
   "source": [
    "import jax.numpy as jnp\n",
    "from numpy.polynomial.chebyshev import Chebyshev\n",
    "\n",
    "def discretized_chebyshev(degree, n, T):\n",
    "    dt = T / n\n",
    "    coeffs = jnp.zeros(degree + 1)\n",
    "    coeffs = coeffs.at[-1].set(1.)\n",
    "\n",
    "    return jnp.array(Chebyshev(coeffs, domain=[0, T], window=[-1,+1])(jnp.linspace(0, T-dt, n) + dt/2 ))\n",
    "\n",
    "def discretized_chebyshev_basis(max_degree, n, T):\n",
    "    vals = list(range(max_degree + 1))\n",
    "    disc_leg_map = map(lambda deg: discretized_chebyshev(deg, n, T), vals)\n",
    "    \n",
    "    return jnp.array(list(disc_leg_map))"
   ]
  },
  {
   "cell_type": "markdown",
   "id": "4068e674",
   "metadata": {},
   "source": [
    "## Define single qubit hamiltonian\n",
    "Consider the lab-frame Hamiltonian:\n",
    "\n",
    "$$ H(t) = 2 \\pi \\nu a^\\dagger a + \\pi \\alpha a^\\dagger a(a^\\dagger a - 1) + 2 \\pi r s(t)(a + a^\\dagger)$$\n",
    "\n",
    "with:\n",
    "\n",
    "- $a$, $a^\\dagger$ the annihilation/creation operators\n",
    "- $\\nu$ the qubit frequency, $\\alpha$ the anharmonicity, and $r$ the drive strength\n",
    "- $s(t)$ a control signal which may depend on some list of parameters\n",
    "\n",
    "For this demo we will add add uncertainties to the frequency and drive strengh $c = (c_0, c_1)$:\n",
    "\n",
    "$$H(t, c) = 2 \\pi \\nu (1 + c_0) a^\\dagger a + \\pi \\alpha a^\\dagger a(a^\\dagger a - 1) + 2 \\pi r (1 + c_1) s(t)(a + a^\\dagger)$$"
   ]
  },
  {
   "cell_type": "code",
   "execution_count": 62,
   "id": "24c05330",
   "metadata": {},
   "outputs": [],
   "source": [
    "dim = 4   #number of levels\n",
    "\n",
    "v=5.034449185334494\n",
    "anharm = -0.3428091445\n",
    "r = 0.11837211845961955\n",
    "\n",
    "a = np.diag(np.sqrt(np.arange(1, dim)), 1)\n",
    "adag = np.diag(np.sqrt(np.arange(1, dim)), -1)\n",
    "N = np.diag(np.arange(dim))\n",
    "X = a + adag\n",
    "\n",
    "# static part\n",
    "static_hamiltonian = 2 * np.pi * v * N + np.pi * anharm * N * (N - np.eye(dim))\n",
    "# drive term\n",
    "drive_hamiltonian = 2 * np.pi * r * X"
   ]
  },
  {
   "cell_type": "markdown",
   "id": "5afa1070",
   "metadata": {},
   "source": [
    "## Rotating frames in dynamics\n",
    "\n",
    "We will work in the rotating frame of the static Hamiltonian $H_s = 2 \\pi \\nu a^\\dagger a + \\pi \\alpha a^\\dagger a(a^\\dagger a - 1)$. I.e. our Hamiltonian will actually be:\n",
    "\n",
    "$$\\tilde{H}(t, c) = 2 \\pi \\nu c_0 \\tilde{N}(t) + 2 \\pi r (1 + c_1) s(t)\\tilde{X}(t),$$\n",
    "\n",
    "where\n",
    "- $\\tilde{N}(t) = e^{iH_st}(a^\\dagger a)e^{-iH_st}$\n",
    "- $\\tilde{X}(t) = e^{iH_st}(a + a^\\dagger)e^{-iH_st}$"
   ]
  },
  {
   "cell_type": "code",
   "execution_count": 63,
   "id": "041ef34d",
   "metadata": {},
   "outputs": [],
   "source": [
    "from qiskit_dynamics.models import RotatingFrame\n",
    "\n",
    "rotating_frame = RotatingFrame(static_hamiltonian)"
   ]
  },
  {
   "cell_type": "markdown",
   "id": "0deabb37",
   "metadata": {},
   "source": [
    "## Construct DiscreteSignal "
   ]
  },
  {
   "cell_type": "markdown",
   "id": "fffd9800",
   "metadata": {},
   "source": [
    "### Define signal parameters and basis\n",
    "\n",
    "Here, we are making sure that sampling is done at half the backend (backend sampling = 0.22222ns, our sampling 0.11111 ns)"
   ]
  },
  {
   "cell_type": "code",
   "execution_count": 64,
   "id": "61c358c0",
   "metadata": {},
   "outputs": [],
   "source": [
    "num_params=24    ##Parameter space dimension\n",
    "max_deg=int((num_params)/2 -1)    ##max degree of chebyshev basis\n",
    "T=5.27*0.5/r       ##Domain of basis function\n",
    "n=200         ##number of samples, affects the Total duration of the pulse\n",
    "basis=jnp.concatenate((jnp.zeros((int(num_params/2),1)),discretized_chebyshev_basis(int(num_params/2)-1, n-1, T)),1) \n",
    "##creating Chebyshev basis and adding zero pad in the begining\n",
    "\n",
    "T_gate=np.ceil(3*T-2*T/n)   ##Convolution adds some samples. Final T_gate is equal to this."
   ]
  },
  {
   "cell_type": "markdown",
   "id": "37957e4f",
   "metadata": {},
   "source": [
    "### Define covolution function (gaussian) to smooth the signal\n",
    "Convolution is applied on both sides (start and end) of the signal. I Defined an array with gaussian values and then convolved my pulse using it. "
   ]
  },
  {
   "cell_type": "code",
   "execution_count": 65,
   "id": "40a1007d",
   "metadata": {},
   "outputs": [],
   "source": [
    "from qiskit_dynamics.signals import Convolution\n",
    "def gaus_left(t):\n",
    "    sigma = 8\n",
    "    delt = 0.015\n",
    "    return 2.*delt/np.sqrt(2.*np.pi*sigma**2)*np.exp(-t**2/(2*sigma**2))\n",
    "def gaus_right(t):\n",
    "    sigma = 8\n",
    "    delt = 0.015\n",
    "    return 2.*delt/np.sqrt(2.*np.pi*sigma**2)*np.exp(-(t-T)**2/(2*sigma**2))\n",
    "\n",
    "convolution_left =jnp.array([gaus_left(x) for x in (np.linspace(0, T, n) +T/(2*n))])\n",
    "convolution_right=jnp.array([gaus_right(x) for x in (np.linspace(0, T, n) +T/(2*n))])"
   ]
  },
  {
   "cell_type": "markdown",
   "id": "483dfad9",
   "metadata": {},
   "source": [
    "### Generate convolved signal with carrier freq 'v' \n",
    "Here, first $n$ terms that are being passed as $\\textit{params}$ are real part of signal and last $n$ terms are complex part (i.e. signal on Y component). I have bounded the function after convolving it."
   ]
  },
  {
   "cell_type": "code",
   "execution_count": 66,
   "id": "81512dcb",
   "metadata": {},
   "outputs": [],
   "source": [
    "from qiskit_dynamics import DiscreteSignal\n",
    "from jax.scipy.signal import convolve\n",
    "def construct_smooth_sig(params):\n",
    "    sig=jnp.sum(jnp.multiply(basis, params[0:,None]),0)\n",
    "    smooth_sig=convolve(convolve(sig,convolution_left),convolution_right)\n",
    "    sig_bounded=jnp.arctan(smooth_sig) /(np.pi / 2)\n",
    "    return sig_bounded\n",
    "\n",
    "def get_parameterized_signal(params):\n",
    "    real_sig=construct_smooth_sig(params[0:(max_deg+1)])\n",
    "    comp_sig=construct_smooth_sig(params[max_deg+1:(2*(max_deg+1))])\n",
    "    smooth_signal=DiscreteSignal(T/n, real_sig+(1j * comp_sig), carrier_freq=v)\n",
    "    return smooth_signal"
   ]
  },
  {
   "cell_type": "markdown",
   "id": "c0bab181",
   "metadata": {},
   "source": [
    "### Test Signal"
   ]
  },
  {
   "cell_type": "code",
   "execution_count": 67,
   "id": "c9e02396",
   "metadata": {},
   "outputs": [
    {
     "data": {
      "image/png": "[encoded data removed]",
      "text/plain": [
       "<Figure size 432x288 with 1 Axes>"
      ]
     },
     "metadata": {
      "needs_background": "light"
     },
     "output_type": "display_data"
    }
   ],
   "source": [
    "test_sig=get_parameterized_signal(np.random.uniform(-100,100,24))\n",
    "test_sig.draw(t0=0,tf=T_gate,n=1000, function='envelope')"
   ]
  },
  {
   "cell_type": "markdown",
   "id": "c1e4e9ab",
   "metadata": {},
   "source": [
    "## Computing perturbation theory terms"
   ]
  },
  {
   "cell_type": "markdown",
   "id": "82e3b80f",
   "metadata": {},
   "source": [
    "### Constructing generators from signal parameters"
   ]
  },
  {
   "cell_type": "code",
   "execution_count": 68,
   "id": "06d926cc",
   "metadata": {},
   "outputs": [],
   "source": [
    "iX = -1j * 2 * np.pi * r * Array(X)\n",
    "iN = -1j * 2 * np.pi * v * Array(N)\n",
    "\n",
    "def construct_generator_parts(params):\n",
    "    \n",
    "    sig = get_parameterized_signal(params)\n",
    "    #sig.phase=phase\n",
    "    \n",
    "    def unperturbed_generator(t):\n",
    "        return (sig(t) * rotating_frame.operator_into_frame(t, iX)).data\n",
    "    \n",
    "    def perturb0(t):\n",
    "        return (rotating_frame.operator_into_frame(t, iN)).data\n",
    "    \n",
    "    def perturb1(t):                     ##Same as unperturbed\n",
    "        return (sig(t) * rotating_frame.operator_into_frame(t, iX)).data\n",
    "    \n",
    "    return unperturbed_generator, perturb0, perturb1"
   ]
  },
  {
   "cell_type": "markdown",
   "id": "ef74174a",
   "metadata": {},
   "source": [
    "### Initializing exact and perturbation solver\n",
    "I have used dyson expansion instead of magnus (are the results affected by which expansion we use?)."
   ]
  },
  {
   "cell_type": "code",
   "execution_count": 69,
   "id": "01dc538e",
   "metadata": {},
   "outputs": [],
   "source": [
    "from qiskit_dynamics import solve_lmde\n",
    "from qiskit_dynamics.perturbation import solve_lmde_perturbation\n",
    "\n",
    "def solve(model_params, control_params):\n",
    "    generator, perturb0, perturb1 = construct_generator_parts(control_params)\n",
    "    \n",
    "    full_generator = lambda t: generator(t) + model_params[0] * perturb0(t) + model_params[1] * perturb1(t)\n",
    "    \n",
    "    results = solve_lmde(\n",
    "        generator=full_generator,\n",
    "        t_span=[0, T_gate],\n",
    "        y0=np.eye(dim, dtype=complex),\n",
    "        method='jax_odeint',\n",
    "        atol=1e-10, rtol=1e-10\n",
    "    )\n",
    "    return results.y[-1]\n",
    "\n",
    "def solve_w_perturbation(params):\n",
    "    generator, perturb0, perturb1 = construct_generator_parts(params)\n",
    "    \n",
    "    results = solve_lmde_perturbation(\n",
    "        perturbations=[perturb0, perturb1],\n",
    "        t_span=[0, T_gate],\n",
    "        expansion_method='dyson',\n",
    "        expansion_order=1,\n",
    "        generator=generator,\n",
    "        integration_method='jax_odeint',\n",
    "        atol=1e-10, rtol=1e-10\n",
    "    )\n",
    "    \n",
    "    return results.y[-1], results.perturbation_results[[0]][-1], results.perturbation_results[[1]][-1]\n"
   ]
  },
  {
   "cell_type": "markdown",
   "id": "a80ee5cc",
   "metadata": {},
   "source": [
    "## Optimizing\n",
    "\n",
    "For fidelity we will optimise a $\\pi$ gate acting around arbitrary axis in X-Y plane. For this we essentially want to maximize the norm of the projection of the unitary onto the X-Y plane. The norm squared of the projection is equal to the maximization \n",
    "\n",
    "$$F(U) = |\\langle X, e^{-i \\phi Z}Ue^{i \\phi Z}\\rangle|^2=\\frac{|\\mathrm{Tr} (e^{-i \\phi Z}Xe^{i \\phi Z} U)|^2}{4}$$\n",
    "\n",
    "where it is necessary to restrict $U$ to the computational subspace before doing this. When computing fidelity, we use $U(T, 0)$, the final unperturbed unitary.\n",
    "\n",
    "For robustness, I am using the norms of the operators in a first order dyson expansion. \n",
    "\n",
    "For robustness in dimensions, I am integrating leakage terms in the $\\tilde{H}^{drive}$ and minimising it. Essentially I am calculating:\n",
    "\n",
    "$$Leakage=\\sum_{n>1}|\\int_0^T dt \\tilde{H}^{d}_{0n}|+\\sum_{n>1}|\\int_0^T dt \\tilde{H}^{d}_{1n}|$$\n",
    "\n",
    "\n"
   ]
  },
  {
   "cell_type": "code",
   "execution_count": 70,
   "id": "fe8f10ad",
   "metadata": {},
   "outputs": [],
   "source": [
    "vals=jnp.linspace(0,T_gate,400)+(T_gate/800)\n",
    "\n",
    "def fidelity_pi(U):\n",
    "    U = Array(U[0:2,0:2])\n",
    "    U = U - np.diag(np.diag(U))\n",
    "    return np.abs((U.conj() * U).sum())**2 / 4.\n",
    "\n",
    "\n",
    "def fidelity_pihalf(U):       ##Quick and dirty pi/2. We need to change it to include more general pi/2. Diagonals \n",
    "    U=Array(U[0:2,0:2])       ##are 1/sqrt(2) and off diags a and b are related as b= -a.conj()   \n",
    "    return np.abs((sx * U).sum())**2 / 4\n",
    "\n",
    "\n",
    "def traceless_hs_norm(A):\n",
    "    A = Array(A[:, 0:2])\n",
    "    return np.linalg.norm(A - A.trace() * np.eye(dim, 2, dtype=complex) / 2.)\n",
    "\n",
    "def leakage_norm(gen):\n",
    "    matrices = (jax.vmap(lambda x: gen(x), in_axes=0)(vals))*(T_gate/(400-1))\n",
    "    leakage = jnp.sum(jnp.abs(jnp.tril(jnp.sum(matrices,axis=0)[:,0:2])[2:,:]))\n",
    "    return leakage"
   ]
  },
  {
   "cell_type": "markdown",
   "id": "1078c1e2",
   "metadata": {},
   "source": [
    "### Target as an array\n",
    "This function returns individual targets as:\n",
    "\n",
    "[gate_fidelity, freq_robustness, amplitude_robustness, leakage]"
   ]
  },
  {
   "cell_type": "code",
   "execution_count": 71,
   "id": "5751bc92",
   "metadata": {},
   "outputs": [],
   "source": [
    "def target_as_array(params):\n",
    "    \n",
    "    gen, _ , _ = construct_generator_parts(params)\n",
    "    \n",
    "    U, dU0, dU1 = solve_w_perturbation(params)\n",
    "    fid = fidelity_pi(U).data                     ##change here to optimize pi/2\n",
    "    robust0 = traceless_hs_norm(dU0).data / (2 * np.pi * v * T_gate)\n",
    "    robust1 = traceless_hs_norm(dU1).data / (2 * np.pi * r * T_gate)\n",
    "    leakage=leakage_norm(gen) / (2*np.pi*r*T_gate)\n",
    "    \n",
    "    target=jnp.array([1-fid, robust0, robust1, leakage])\n",
    "    \n",
    "    return target"
   ]
  },
  {
   "cell_type": "markdown",
   "id": "bfb89f80",
   "metadata": {},
   "source": [
    "### Objective with weights for targets"
   ]
  },
  {
   "cell_type": "code",
   "execution_count": 72,
   "id": "248c8649",
   "metadata": {},
   "outputs": [],
   "source": [
    "##My approach was to get amplitude robustness first (which is hard to get) and then minimize fidelity. \n",
    "##I used to start with a target which looked something like [40,5,100,1]. \n",
    "##After that I increased target for freq and then fidelity.\n",
    "\n",
    "\n",
    "def objective(params):\n",
    "    target=target_as_array(params)\n",
    "    weights=jnp.array([130, 40, 80,1])\n",
    "    return jnp.dot(weights, target)"
   ]
  },
  {
   "cell_type": "markdown",
   "id": "0ac6d815",
   "metadata": {},
   "source": [
    "### Using JAX to optimize"
   ]
  },
  {
   "cell_type": "code",
   "execution_count": 73,
   "id": "fb08686c",
   "metadata": {},
   "outputs": [],
   "source": [
    "from jax import jit, value_and_grad, vmap\n",
    "from scipy.optimize import minimize"
   ]
  },
  {
   "cell_type": "code",
   "execution_count": 74,
   "id": "3ceac7d9",
   "metadata": {},
   "outputs": [],
   "source": [
    "import qiskit_dynamics as qd\n",
    "import scipy as sp\n",
    "\n",
    "jit_grad_obj = jit(value_and_grad(lambda p: objective(p)))\n",
    "jit_target_array=jit(lambda x: target_as_array(x))\n",
    "\n",
    "def jax_grad_obj(params):\n",
    "    values = jit_grad_obj(params)\n",
    "    print(jit_target_array(params))\n",
    "    #print(params)\n",
    "    return (values[0], values[1])"
   ]
  },
  {
   "cell_type": "code",
   "execution_count": 75,
   "id": "d471cdd3",
   "metadata": {},
   "outputs": [
    {
     "name": "stdout",
     "output_type": "stream",
     "text": [
      "[6.43750637e-01 1.49906983e-01 2.29890873e-01 4.71858079e-05]\n",
      "[6.04952144e-01 1.42986427e-01 2.28762252e-01 4.77866772e-05]\n",
      "[4.45926090e-01 1.23075869e-01 2.24161729e-01 5.02395085e-05]\n",
      "[2.87254357e-01 2.20804479e-01 2.04289902e-01 6.08887391e-05]\n",
      "[2.25723123e-01 1.33391001e-01 2.15947608e-01 5.48888984e-05]\n"
     ]
    },
    {
     "ename": "KeyboardInterrupt",
     "evalue": "",
     "output_type": "error",
     "traceback": [
      "\u001b[0;31m---------------------------------------------------------------------------\u001b[0m",
      "\u001b[0;31mKeyboardInterrupt\u001b[0m                         Traceback (most recent call last)",
      "File \u001b[0;32m<timed exec>:1\u001b[0m, in \u001b[0;36m<module>\u001b[0;34m\u001b[0m\n",
      "File \u001b[0;32m~/opt/anaconda3/lib/python3.9/site-packages/scipy/optimize/_minimize.py:618\u001b[0m, in \u001b[0;36mminimize\u001b[0;34m(fun, x0, args, method, jac, hess, hessp, bounds, constraints, tol, callback, options)\u001b[0m\n\u001b[1;32m    616\u001b[0m     \u001b[38;5;28;01mreturn\u001b[39;00m _minimize_cg(fun, x0, args, jac, callback, \u001b[38;5;241m*\u001b[39m\u001b[38;5;241m*\u001b[39moptions)\n\u001b[1;32m    617\u001b[0m \u001b[38;5;28;01melif\u001b[39;00m meth \u001b[38;5;241m==\u001b[39m \u001b[38;5;124m'\u001b[39m\u001b[38;5;124mbfgs\u001b[39m\u001b[38;5;124m'\u001b[39m:\n\u001b[0;32m--> 618\u001b[0m     \u001b[38;5;28;01mreturn\u001b[39;00m \u001b[43m_minimize_bfgs\u001b[49m\u001b[43m(\u001b[49m\u001b[43mfun\u001b[49m\u001b[43m,\u001b[49m\u001b[43m \u001b[49m\u001b[43mx0\u001b[49m\u001b[43m,\u001b[49m\u001b[43m \u001b[49m\u001b[43margs\u001b[49m\u001b[43m,\u001b[49m\u001b[43m \u001b[49m\u001b[43mjac\u001b[49m\u001b[43m,\u001b[49m\u001b[43m \u001b[49m\u001b[43mcallback\u001b[49m\u001b[43m,\u001b[49m\u001b[43m \u001b[49m\u001b[38;5;241;43m*\u001b[39;49m\u001b[38;5;241;43m*\u001b[39;49m\u001b[43moptions\u001b[49m\u001b[43m)\u001b[49m\n\u001b[1;32m    619\u001b[0m \u001b[38;5;28;01melif\u001b[39;00m meth \u001b[38;5;241m==\u001b[39m \u001b[38;5;124m'\u001b[39m\u001b[38;5;124mnewton-cg\u001b[39m\u001b[38;5;124m'\u001b[39m:\n\u001b[1;32m    620\u001b[0m     \u001b[38;5;28;01mreturn\u001b[39;00m _minimize_newtoncg(fun, x0, args, jac, hess, hessp, callback,\n\u001b[1;32m    621\u001b[0m                               \u001b[38;5;241m*\u001b[39m\u001b[38;5;241m*\u001b[39moptions)\n",
      "File \u001b[0;32m~/opt/anaconda3/lib/python3.9/site-packages/scipy/optimize/optimize.py:1235\u001b[0m, in \u001b[0;36m_minimize_bfgs\u001b[0;34m(fun, x0, args, jac, callback, gtol, norm, eps, maxiter, disp, return_all, finite_diff_rel_step, **unknown_options)\u001b[0m\n\u001b[1;32m   1232\u001b[0m pk \u001b[38;5;241m=\u001b[39m \u001b[38;5;241m-\u001b[39mnp\u001b[38;5;241m.\u001b[39mdot(Hk, gfk)\n\u001b[1;32m   1233\u001b[0m \u001b[38;5;28;01mtry\u001b[39;00m:\n\u001b[1;32m   1234\u001b[0m     alpha_k, fc, gc, old_fval, old_old_fval, gfkp1 \u001b[38;5;241m=\u001b[39m \\\n\u001b[0;32m-> 1235\u001b[0m              \u001b[43m_line_search_wolfe12\u001b[49m\u001b[43m(\u001b[49m\u001b[43mf\u001b[49m\u001b[43m,\u001b[49m\u001b[43m \u001b[49m\u001b[43mmyfprime\u001b[49m\u001b[43m,\u001b[49m\u001b[43m \u001b[49m\u001b[43mxk\u001b[49m\u001b[43m,\u001b[49m\u001b[43m \u001b[49m\u001b[43mpk\u001b[49m\u001b[43m,\u001b[49m\u001b[43m \u001b[49m\u001b[43mgfk\u001b[49m\u001b[43m,\u001b[49m\n\u001b[1;32m   1236\u001b[0m \u001b[43m                                  \u001b[49m\u001b[43mold_fval\u001b[49m\u001b[43m,\u001b[49m\u001b[43m \u001b[49m\u001b[43mold_old_fval\u001b[49m\u001b[43m,\u001b[49m\u001b[43m \u001b[49m\u001b[43mamin\u001b[49m\u001b[38;5;241;43m=\u001b[39;49m\u001b[38;5;241;43m1e-100\u001b[39;49m\u001b[43m,\u001b[49m\u001b[43m \u001b[49m\u001b[43mamax\u001b[49m\u001b[38;5;241;43m=\u001b[39;49m\u001b[38;5;241;43m1e100\u001b[39;49m\u001b[43m)\u001b[49m\n\u001b[1;32m   1237\u001b[0m \u001b[38;5;28;01mexcept\u001b[39;00m _LineSearchError:\n\u001b[1;32m   1238\u001b[0m     \u001b[38;5;66;03m# Line search failed to find a better solution.\u001b[39;00m\n\u001b[1;32m   1239\u001b[0m     warnflag \u001b[38;5;241m=\u001b[39m \u001b[38;5;241m2\u001b[39m\n",
      "File \u001b[0;32m~/opt/anaconda3/lib/python3.9/site-packages/scipy/optimize/optimize.py:1005\u001b[0m, in \u001b[0;36m_line_search_wolfe12\u001b[0;34m(f, fprime, xk, pk, gfk, old_fval, old_old_fval, **kwargs)\u001b[0m\n\u001b[1;32m    991\u001b[0m \u001b[38;5;124;03m\"\"\"\u001b[39;00m\n\u001b[1;32m    992\u001b[0m \u001b[38;5;124;03mSame as line_search_wolfe1, but fall back to line_search_wolfe2 if\u001b[39;00m\n\u001b[1;32m    993\u001b[0m \u001b[38;5;124;03msuitable step length is not found, and raise an exception if a\u001b[39;00m\n\u001b[0;32m   (...)\u001b[0m\n\u001b[1;32m   1000\u001b[0m \n\u001b[1;32m   1001\u001b[0m \u001b[38;5;124;03m\"\"\"\u001b[39;00m\n\u001b[1;32m   1003\u001b[0m extra_condition \u001b[38;5;241m=\u001b[39m kwargs\u001b[38;5;241m.\u001b[39mpop(\u001b[38;5;124m'\u001b[39m\u001b[38;5;124mextra_condition\u001b[39m\u001b[38;5;124m'\u001b[39m, \u001b[38;5;28;01mNone\u001b[39;00m)\n\u001b[0;32m-> 1005\u001b[0m ret \u001b[38;5;241m=\u001b[39m \u001b[43mline_search_wolfe1\u001b[49m\u001b[43m(\u001b[49m\u001b[43mf\u001b[49m\u001b[43m,\u001b[49m\u001b[43m \u001b[49m\u001b[43mfprime\u001b[49m\u001b[43m,\u001b[49m\u001b[43m \u001b[49m\u001b[43mxk\u001b[49m\u001b[43m,\u001b[49m\u001b[43m \u001b[49m\u001b[43mpk\u001b[49m\u001b[43m,\u001b[49m\u001b[43m \u001b[49m\u001b[43mgfk\u001b[49m\u001b[43m,\u001b[49m\n\u001b[1;32m   1006\u001b[0m \u001b[43m                         \u001b[49m\u001b[43mold_fval\u001b[49m\u001b[43m,\u001b[49m\u001b[43m \u001b[49m\u001b[43mold_old_fval\u001b[49m\u001b[43m,\u001b[49m\n\u001b[1;32m   1007\u001b[0m \u001b[43m                         \u001b[49m\u001b[38;5;241;43m*\u001b[39;49m\u001b[38;5;241;43m*\u001b[39;49m\u001b[43mkwargs\u001b[49m\u001b[43m)\u001b[49m\n\u001b[1;32m   1009\u001b[0m \u001b[38;5;28;01mif\u001b[39;00m ret[\u001b[38;5;241m0\u001b[39m] \u001b[38;5;129;01mis\u001b[39;00m \u001b[38;5;129;01mnot\u001b[39;00m \u001b[38;5;28;01mNone\u001b[39;00m \u001b[38;5;129;01mand\u001b[39;00m extra_condition \u001b[38;5;129;01mis\u001b[39;00m \u001b[38;5;129;01mnot\u001b[39;00m \u001b[38;5;28;01mNone\u001b[39;00m:\n\u001b[1;32m   1010\u001b[0m     xp1 \u001b[38;5;241m=\u001b[39m xk \u001b[38;5;241m+\u001b[39m ret[\u001b[38;5;241m0\u001b[39m] \u001b[38;5;241m*\u001b[39m pk\n",
      "File \u001b[0;32m~/opt/anaconda3/lib/python3.9/site-packages/scipy/optimize/linesearch.py:96\u001b[0m, in \u001b[0;36mline_search_wolfe1\u001b[0;34m(f, fprime, xk, pk, gfk, old_fval, old_old_fval, args, c1, c2, amax, amin, xtol)\u001b[0m\n\u001b[1;32m     92\u001b[0m     \u001b[38;5;28;01mreturn\u001b[39;00m np\u001b[38;5;241m.\u001b[39mdot(gval[\u001b[38;5;241m0\u001b[39m], pk)\n\u001b[1;32m     94\u001b[0m derphi0 \u001b[38;5;241m=\u001b[39m np\u001b[38;5;241m.\u001b[39mdot(gfk, pk)\n\u001b[0;32m---> 96\u001b[0m stp, fval, old_fval \u001b[38;5;241m=\u001b[39m \u001b[43mscalar_search_wolfe1\u001b[49m\u001b[43m(\u001b[49m\n\u001b[1;32m     97\u001b[0m \u001b[43m        \u001b[49m\u001b[43mphi\u001b[49m\u001b[43m,\u001b[49m\u001b[43m \u001b[49m\u001b[43mderphi\u001b[49m\u001b[43m,\u001b[49m\u001b[43m \u001b[49m\u001b[43mold_fval\u001b[49m\u001b[43m,\u001b[49m\u001b[43m \u001b[49m\u001b[43mold_old_fval\u001b[49m\u001b[43m,\u001b[49m\u001b[43m \u001b[49m\u001b[43mderphi0\u001b[49m\u001b[43m,\u001b[49m\n\u001b[1;32m     98\u001b[0m \u001b[43m        \u001b[49m\u001b[43mc1\u001b[49m\u001b[38;5;241;43m=\u001b[39;49m\u001b[43mc1\u001b[49m\u001b[43m,\u001b[49m\u001b[43m \u001b[49m\u001b[43mc2\u001b[49m\u001b[38;5;241;43m=\u001b[39;49m\u001b[43mc2\u001b[49m\u001b[43m,\u001b[49m\u001b[43m \u001b[49m\u001b[43mamax\u001b[49m\u001b[38;5;241;43m=\u001b[39;49m\u001b[43mamax\u001b[49m\u001b[43m,\u001b[49m\u001b[43m \u001b[49m\u001b[43mamin\u001b[49m\u001b[38;5;241;43m=\u001b[39;49m\u001b[43mamin\u001b[49m\u001b[43m,\u001b[49m\u001b[43m \u001b[49m\u001b[43mxtol\u001b[49m\u001b[38;5;241;43m=\u001b[39;49m\u001b[43mxtol\u001b[49m\u001b[43m)\u001b[49m\n\u001b[1;32m    100\u001b[0m \u001b[38;5;28;01mreturn\u001b[39;00m stp, fc[\u001b[38;5;241m0\u001b[39m], gc[\u001b[38;5;241m0\u001b[39m], fval, old_fval, gval[\u001b[38;5;241m0\u001b[39m]\n",
      "File \u001b[0;32m~/opt/anaconda3/lib/python3.9/site-packages/scipy/optimize/linesearch.py:172\u001b[0m, in \u001b[0;36mscalar_search_wolfe1\u001b[0;34m(phi, derphi, phi0, old_phi0, derphi0, c1, c2, amax, amin, xtol)\u001b[0m\n\u001b[1;32m    170\u001b[0m \u001b[38;5;28;01mif\u001b[39;00m task[:\u001b[38;5;241m2\u001b[39m] \u001b[38;5;241m==\u001b[39m \u001b[38;5;124mb\u001b[39m\u001b[38;5;124m'\u001b[39m\u001b[38;5;124mFG\u001b[39m\u001b[38;5;124m'\u001b[39m:\n\u001b[1;32m    171\u001b[0m     alpha1 \u001b[38;5;241m=\u001b[39m stp\n\u001b[0;32m--> 172\u001b[0m     phi1 \u001b[38;5;241m=\u001b[39m \u001b[43mphi\u001b[49m\u001b[43m(\u001b[49m\u001b[43mstp\u001b[49m\u001b[43m)\u001b[49m\n\u001b[1;32m    173\u001b[0m     derphi1 \u001b[38;5;241m=\u001b[39m derphi(stp)\n\u001b[1;32m    174\u001b[0m \u001b[38;5;28;01melse\u001b[39;00m:\n",
      "File \u001b[0;32m~/opt/anaconda3/lib/python3.9/site-packages/scipy/optimize/linesearch.py:84\u001b[0m, in \u001b[0;36mline_search_wolfe1.<locals>.phi\u001b[0;34m(s)\u001b[0m\n\u001b[1;32m     82\u001b[0m \u001b[38;5;28;01mdef\u001b[39;00m \u001b[38;5;21mphi\u001b[39m(s):\n\u001b[1;32m     83\u001b[0m     fc[\u001b[38;5;241m0\u001b[39m] \u001b[38;5;241m+\u001b[39m\u001b[38;5;241m=\u001b[39m \u001b[38;5;241m1\u001b[39m\n\u001b[0;32m---> 84\u001b[0m     \u001b[38;5;28;01mreturn\u001b[39;00m \u001b[43mf\u001b[49m\u001b[43m(\u001b[49m\u001b[43mxk\u001b[49m\u001b[43m \u001b[49m\u001b[38;5;241;43m+\u001b[39;49m\u001b[43m \u001b[49m\u001b[43ms\u001b[49m\u001b[38;5;241;43m*\u001b[39;49m\u001b[43mpk\u001b[49m\u001b[43m,\u001b[49m\u001b[43m \u001b[49m\u001b[38;5;241;43m*\u001b[39;49m\u001b[43margs\u001b[49m\u001b[43m)\u001b[49m\n",
      "File \u001b[0;32m~/opt/anaconda3/lib/python3.9/site-packages/scipy/optimize/_differentiable_functions.py:249\u001b[0m, in \u001b[0;36mScalarFunction.fun\u001b[0;34m(self, x)\u001b[0m\n\u001b[1;32m    247\u001b[0m \u001b[38;5;28;01mif\u001b[39;00m \u001b[38;5;129;01mnot\u001b[39;00m np\u001b[38;5;241m.\u001b[39marray_equal(x, \u001b[38;5;28mself\u001b[39m\u001b[38;5;241m.\u001b[39mx):\n\u001b[1;32m    248\u001b[0m     \u001b[38;5;28mself\u001b[39m\u001b[38;5;241m.\u001b[39m_update_x_impl(x)\n\u001b[0;32m--> 249\u001b[0m \u001b[38;5;28;43mself\u001b[39;49m\u001b[38;5;241;43m.\u001b[39;49m\u001b[43m_update_fun\u001b[49m\u001b[43m(\u001b[49m\u001b[43m)\u001b[49m\n\u001b[1;32m    250\u001b[0m \u001b[38;5;28;01mreturn\u001b[39;00m \u001b[38;5;28mself\u001b[39m\u001b[38;5;241m.\u001b[39mf\n",
      "File \u001b[0;32m~/opt/anaconda3/lib/python3.9/site-packages/scipy/optimize/_differentiable_functions.py:233\u001b[0m, in \u001b[0;36mScalarFunction._update_fun\u001b[0;34m(self)\u001b[0m\n\u001b[1;32m    231\u001b[0m \u001b[38;5;28;01mdef\u001b[39;00m \u001b[38;5;21m_update_fun\u001b[39m(\u001b[38;5;28mself\u001b[39m):\n\u001b[1;32m    232\u001b[0m     \u001b[38;5;28;01mif\u001b[39;00m \u001b[38;5;129;01mnot\u001b[39;00m \u001b[38;5;28mself\u001b[39m\u001b[38;5;241m.\u001b[39mf_updated:\n\u001b[0;32m--> 233\u001b[0m         \u001b[38;5;28;43mself\u001b[39;49m\u001b[38;5;241;43m.\u001b[39;49m\u001b[43m_update_fun_impl\u001b[49m\u001b[43m(\u001b[49m\u001b[43m)\u001b[49m\n\u001b[1;32m    234\u001b[0m         \u001b[38;5;28mself\u001b[39m\u001b[38;5;241m.\u001b[39mf_updated \u001b[38;5;241m=\u001b[39m \u001b[38;5;28;01mTrue\u001b[39;00m\n",
      "File \u001b[0;32m~/opt/anaconda3/lib/python3.9/site-packages/scipy/optimize/_differentiable_functions.py:137\u001b[0m, in \u001b[0;36mScalarFunction.__init__.<locals>.update_fun\u001b[0;34m()\u001b[0m\n\u001b[1;32m    136\u001b[0m \u001b[38;5;28;01mdef\u001b[39;00m \u001b[38;5;21mupdate_fun\u001b[39m():\n\u001b[0;32m--> 137\u001b[0m     \u001b[38;5;28mself\u001b[39m\u001b[38;5;241m.\u001b[39mf \u001b[38;5;241m=\u001b[39m \u001b[43mfun_wrapped\u001b[49m\u001b[43m(\u001b[49m\u001b[38;5;28;43mself\u001b[39;49m\u001b[38;5;241;43m.\u001b[39;49m\u001b[43mx\u001b[49m\u001b[43m)\u001b[49m\n",
      "File \u001b[0;32m~/opt/anaconda3/lib/python3.9/site-packages/scipy/optimize/_differentiable_functions.py:134\u001b[0m, in \u001b[0;36mScalarFunction.__init__.<locals>.fun_wrapped\u001b[0;34m(x)\u001b[0m\n\u001b[1;32m    130\u001b[0m \u001b[38;5;28mself\u001b[39m\u001b[38;5;241m.\u001b[39mnfev \u001b[38;5;241m+\u001b[39m\u001b[38;5;241m=\u001b[39m \u001b[38;5;241m1\u001b[39m\n\u001b[1;32m    131\u001b[0m \u001b[38;5;66;03m# Send a copy because the user may overwrite it.\u001b[39;00m\n\u001b[1;32m    132\u001b[0m \u001b[38;5;66;03m# Overwriting results in undefined behaviour because\u001b[39;00m\n\u001b[1;32m    133\u001b[0m \u001b[38;5;66;03m# fun(self.x) will change self.x, with the two no longer linked.\u001b[39;00m\n\u001b[0;32m--> 134\u001b[0m \u001b[38;5;28;01mreturn\u001b[39;00m \u001b[43mfun\u001b[49m\u001b[43m(\u001b[49m\u001b[43mnp\u001b[49m\u001b[38;5;241;43m.\u001b[39;49m\u001b[43mcopy\u001b[49m\u001b[43m(\u001b[49m\u001b[43mx\u001b[49m\u001b[43m)\u001b[49m\u001b[43m,\u001b[49m\u001b[43m \u001b[49m\u001b[38;5;241;43m*\u001b[39;49m\u001b[43margs\u001b[49m\u001b[43m)\u001b[49m\n",
      "File \u001b[0;32m~/opt/anaconda3/lib/python3.9/site-packages/scipy/optimize/optimize.py:74\u001b[0m, in \u001b[0;36mMemoizeJac.__call__\u001b[0;34m(self, x, *args)\u001b[0m\n\u001b[1;32m     72\u001b[0m \u001b[38;5;28;01mdef\u001b[39;00m \u001b[38;5;21m__call__\u001b[39m(\u001b[38;5;28mself\u001b[39m, x, \u001b[38;5;241m*\u001b[39margs):\n\u001b[1;32m     73\u001b[0m     \u001b[38;5;124;03m\"\"\" returns the the function value \"\"\"\u001b[39;00m\n\u001b[0;32m---> 74\u001b[0m     \u001b[38;5;28;43mself\u001b[39;49m\u001b[38;5;241;43m.\u001b[39;49m\u001b[43m_compute_if_needed\u001b[49m\u001b[43m(\u001b[49m\u001b[43mx\u001b[49m\u001b[43m,\u001b[49m\u001b[43m \u001b[49m\u001b[38;5;241;43m*\u001b[39;49m\u001b[43margs\u001b[49m\u001b[43m)\u001b[49m\n\u001b[1;32m     75\u001b[0m     \u001b[38;5;28;01mreturn\u001b[39;00m \u001b[38;5;28mself\u001b[39m\u001b[38;5;241m.\u001b[39m_value\n",
      "File \u001b[0;32m~/opt/anaconda3/lib/python3.9/site-packages/scipy/optimize/optimize.py:68\u001b[0m, in \u001b[0;36mMemoizeJac._compute_if_needed\u001b[0;34m(self, x, *args)\u001b[0m\n\u001b[1;32m     66\u001b[0m \u001b[38;5;28;01mif\u001b[39;00m \u001b[38;5;129;01mnot\u001b[39;00m np\u001b[38;5;241m.\u001b[39mall(x \u001b[38;5;241m==\u001b[39m \u001b[38;5;28mself\u001b[39m\u001b[38;5;241m.\u001b[39mx) \u001b[38;5;129;01mor\u001b[39;00m \u001b[38;5;28mself\u001b[39m\u001b[38;5;241m.\u001b[39m_value \u001b[38;5;129;01mis\u001b[39;00m \u001b[38;5;28;01mNone\u001b[39;00m \u001b[38;5;129;01mor\u001b[39;00m \u001b[38;5;28mself\u001b[39m\u001b[38;5;241m.\u001b[39mjac \u001b[38;5;129;01mis\u001b[39;00m \u001b[38;5;28;01mNone\u001b[39;00m:\n\u001b[1;32m     67\u001b[0m     \u001b[38;5;28mself\u001b[39m\u001b[38;5;241m.\u001b[39mx \u001b[38;5;241m=\u001b[39m np\u001b[38;5;241m.\u001b[39masarray(x)\u001b[38;5;241m.\u001b[39mcopy()\n\u001b[0;32m---> 68\u001b[0m     fg \u001b[38;5;241m=\u001b[39m \u001b[38;5;28;43mself\u001b[39;49m\u001b[38;5;241;43m.\u001b[39;49m\u001b[43mfun\u001b[49m\u001b[43m(\u001b[49m\u001b[43mx\u001b[49m\u001b[43m,\u001b[49m\u001b[43m \u001b[49m\u001b[38;5;241;43m*\u001b[39;49m\u001b[43margs\u001b[49m\u001b[43m)\u001b[49m\n\u001b[1;32m     69\u001b[0m     \u001b[38;5;28mself\u001b[39m\u001b[38;5;241m.\u001b[39mjac \u001b[38;5;241m=\u001b[39m fg[\u001b[38;5;241m1\u001b[39m]\n\u001b[1;32m     70\u001b[0m     \u001b[38;5;28mself\u001b[39m\u001b[38;5;241m.\u001b[39m_value \u001b[38;5;241m=\u001b[39m fg[\u001b[38;5;241m0\u001b[39m]\n",
      "Input \u001b[0;32mIn [74]\u001b[0m, in \u001b[0;36mjax_grad_obj\u001b[0;34m(params)\u001b[0m\n\u001b[1;32m      7\u001b[0m \u001b[38;5;28;01mdef\u001b[39;00m \u001b[38;5;21mjax_grad_obj\u001b[39m(params):\n\u001b[0;32m----> 8\u001b[0m     values \u001b[38;5;241m=\u001b[39m \u001b[43mjit_grad_obj\u001b[49m\u001b[43m(\u001b[49m\u001b[43mparams\u001b[49m\u001b[43m)\u001b[49m\n\u001b[1;32m      9\u001b[0m     \u001b[38;5;28mprint\u001b[39m(jit_target_array(params))\n\u001b[1;32m     10\u001b[0m     \u001b[38;5;66;03m#print(params)\u001b[39;00m\n",
      "\u001b[0;31mKeyboardInterrupt\u001b[0m: "
     ]
    }
   ],
   "source": [
    "%time result = sp.optimize.minimize(jax_grad_obj,np.random.uniform(-100,100,24),method='BFGS',jac=True,tol=10e-8,options={'disp': False, 'maxiter': 30})"
   ]
  },
  {
   "cell_type": "code",
   "execution_count": null,
   "id": "a286635d",
   "metadata": {},
   "outputs": [],
   "source": [
    "result"
   ]
  },
  {
   "cell_type": "markdown",
   "id": "5e57543c",
   "metadata": {},
   "source": [
    "### Best $\\pi$ Pulse"
   ]
  },
  {
   "cell_type": "code",
   "execution_count": 16,
   "id": "ab589b17",
   "metadata": {},
   "outputs": [],
   "source": [
    "c0=np.array([73.62308921,3.19223441,161.18759437,-150.57940717,288.15355022,\n",
    "  -59.53688782, -495.42943658, -157.63258942,  -96.47497426,  -32.98274664,\n",
    "  122.59149652,  -24.04210008,  158.23636227,  -37.98345367,  459.96185924,\n",
    "  124.37995979,  334.17043406, -120.86549574, -717.48286267, -163.53566059,\n",
    "  -11.1661289,   196.79637232,  -46.19198142,  -24.07874067])"
   ]
  },
  {
   "cell_type": "code",
   "execution_count": 18,
   "id": "d3c38840",
   "metadata": {},
   "outputs": [
    {
     "data": {
      "image/png": "[encoded data removed]",
      "text/plain": [
       "<Figure size 432x288 with 1 Axes>"
      ]
     },
     "metadata": {
      "needs_background": "light"
     },
     "output_type": "display_data"
    }
   ],
   "source": [
    "get_parameterized_signal(c0).draw(t0=0,tf=T_gate,n=2000, function='envelope')"
   ]
  },
  {
   "cell_type": "markdown",
   "id": "289323c3",
   "metadata": {},
   "source": [
    "### Another pulse (spectator driving for this was high in simulated calibration) \n",
    "This was used in gate sims\n"
   ]
  },
  {
   "cell_type": "code",
   "execution_count": null,
   "id": "eb478e7d",
   "metadata": {},
   "outputs": [],
   "source": [
    "best_data=np.array([  79.28964179,    5.28746651,  129.18731817,   41.07531768,\n",
    "        212.2903799 , -121.81650779,  152.28706158,   92.67434687,\n",
    "         90.88063147,  207.59938534,  -39.99765888,  156.03045516,\n",
    "         15.13295144,   31.28988718,   79.31353626,  -48.10347986,\n",
    "        -44.53175316,  139.37238584, -261.79243031,  -17.7953633 ,\n",
    "        149.71476528,  -33.56362625,  109.54884222,   59.9039796 ])"
   ]
  },
  {
   "cell_type": "markdown",
   "id": "87d61843",
   "metadata": {},
   "source": [
    "### Best pi/2 I could get"
   ]
  },
  {
   "cell_type": "code",
   "execution_count": null,
   "id": "9fa7f34d",
   "metadata": {},
   "outputs": [],
   "source": [
    "c0=np.array([-20.35279161, -112.20350429,  -30.37606824,   32.90314554,\n",
    "         -7.57403223,  157.27498671,   56.19850522,   10.48297861,\n",
    "        -53.60682115,  -69.21001789,  -10.13877839,   93.81783923,\n",
    "        -20.20809394,   -9.06100001,  -41.74512974,  -13.69540539,\n",
    "        -25.35468237,   58.49135569,  -20.00739529,  -86.10896888,\n",
    "        -89.98114455,  -13.99027509,  -95.93063766,  -17.09140699])"
   ]
  },
  {
   "cell_type": "markdown",
   "id": "bc71906b",
   "metadata": {},
   "source": [
    "## Fourier Transform"
   ]
  },
  {
   "cell_type": "code",
   "execution_count": 19,
   "id": "afff863f",
   "metadata": {},
   "outputs": [
    {
     "data": {
      "image/png": "[encoded data removed]",
      "text/plain": [
       "<Figure size 432x288 with 1 Axes>"
      ]
     },
     "metadata": {
      "needs_background": "light"
     },
     "output_type": "display_data"
    }
   ],
   "source": [
    "%matplotlib inline\n",
    "from matplotlib import pyplot as plt\n",
    "from numpy.fft import fft, fftfreq\n",
    "from scipy import interpolate\n",
    "# sampling rate\n",
    "sr = 300\n",
    "# sampling interval\n",
    "t = np.linspace(0,66.4,sr)\n",
    "y= lambda k:get_parameterized_signal(c0).envelope(k).data   ##Put the pulse parameters here\n",
    "f_real=lambda m: np.array([y(m)])[0]\n",
    "\n",
    "gr = f_real(t)\n",
    "\n",
    "X = fft(gr)/np.sqrt(len(gr))\n",
    "\n",
    "freq=fftfreq(sr, d=66.4/299)\n",
    "\n",
    "order = np.argsort(freq)\n",
    "freq = np.array(freq)[order]\n",
    "X = np.array(X)[order]\n",
    "\n",
    "\n",
    "x_new = np.linspace(-1,1, 500)\n",
    "bspline1 = interpolate.make_interp_spline(freq, np.abs(X))\n",
    "y_new1 = bspline1(x_new)\n",
    "plt.plot(x_new,y_new1, linestyle=\"-\", marker = '', linewidth=2,color='r')\n",
    "\n",
    "plt.xlim(-0.3,0.3)\n",
    "\n",
    "plt.title(\"Fourier Transform\")\n",
    "plt.xlabel('Frequency (in GHz)')\n",
    "plt.ylabel(r'|f($\\omega$)|')\n",
    "plt.tight_layout()\n",
    "plt.savefig('fig.pdf')\n"
   ]
  },
  {
   "cell_type": "markdown",
   "id": "289c64d2",
   "metadata": {},
   "source": [
    "## Average Gate fidelity"
   ]
  },
  {
   "cell_type": "code",
   "execution_count": 20,
   "id": "f99df08d",
   "metadata": {},
   "outputs": [
    {
     "name": "stdout",
     "output_type": "stream",
     "text": [
      "CPU times: user 4.35 ms, sys: 59 µs, total: 4.41 ms\n",
      "Wall time: 4.42 ms\n"
     ]
    },
    {
     "data": {
      "text/plain": [
       "      fun: 8.658531553962234e-05\n",
       " hess_inv: array([[0.7500973]])\n",
       "      jac: array([0.])\n",
       "  message: 'Optimization terminated successfully.'\n",
       "     nfev: 10\n",
       "      nit: 4\n",
       "     njev: 5\n",
       "   status: 0\n",
       "  success: True\n",
       "        x: array([-0.13093487])"
      ]
     },
     "execution_count": 20,
     "metadata": {},
     "output_type": "execute_result"
    }
   ],
   "source": [
    "from qiskit.quantum_info import average_gate_fidelity\n",
    "from qiskit.quantum_info import Operator\n",
    "\n",
    "U = solve(np.array([0.,0.]), c0)   ##c0 is pusle parameter\n",
    "\n",
    "op1=Operator(np.array(U[0:2,0:2]), input_dims=2, output_dims=2)\n",
    "\n",
    "\n",
    "def maximise_fid(phi):\n",
    "    target=jnp.array([[0,np.exp(-1j*phi)],[np.exp(1j*phi),0]],dtype='complex')\n",
    "    op2=Operator(np.array(target), input_dims=2, output_dims=2)\n",
    "    obj=average_gate_fidelity(op1, target=op2)\n",
    "    return 1-obj\n",
    "    \n",
    "\n",
    "%time result = sp.optimize.minimize(maximise_fid, 0. ,method='BFGS',tol=10e-12)\n",
    "result"
   ]
  },
  {
   "cell_type": "markdown",
   "id": "f5f40bfb",
   "metadata": {},
   "source": [
    "## Checking Robustness"
   ]
  },
  {
   "cell_type": "markdown",
   "id": "735240b1",
   "metadata": {},
   "source": [
    "### Frequency Robustness"
   ]
  },
  {
   "cell_type": "code",
   "execution_count": 21,
   "id": "5a9f1522",
   "metadata": {},
   "outputs": [],
   "source": [
    "import matplotlib\n",
    "import matplotlib.pyplot as plt\n",
    "import scipy as sp\n",
    "from scipy.sparse import coo_matrix\n",
    "from scipy.sparse.linalg import eigsh\n",
    "from scipy.optimize import curve_fit\n",
    "\n"
   ]
  },
  {
   "cell_type": "code",
   "execution_count": 364,
   "id": "524ce7eb",
   "metadata": {},
   "outputs": [
    {
     "data": {
      "image/png": "[encoded data removed]",
      "text/plain": [
       "<Figure size 432x288 with 1 Axes>"
      ]
     },
     "metadata": {
      "needs_background": "light"
     },
     "output_type": "display_data"
    }
   ],
   "source": [
    "%matplotlib inline\n",
    "from matplotlib import pyplot as plt\n",
    "plt.rc('axes', labelsize=12)\n",
    "def fid(model_params, control_params):\n",
    "    U = solve(model_params, control_params)\n",
    "    return 1 - fidelity_pi(U).data\n",
    "jit_fid = jit(lambda p: fid(p, c0))                ##Pulse paramters\n",
    "model_params_dir = jnp.array([1., 0.])\n",
    "eps0 = jnp.linspace(-0.001, 0.001, 10)            \n",
    "fid_values=[jit_fid(x) for x in jnp.outer(eps0, model_params_dir)]\n",
    "plt.plot(eps0*v*1e3, fid_values, linestyle=\"-\", marker = '', linewidth=2)\n",
    "plt.title(\"Frequency Robustness Plot\")\n",
    "plt.xlabel('Static Uncertainity (in MHz)')\n",
    "plt.ylabel('1 - Fidelity')\n",
    "plt.tight_layout()"
   ]
  },
  {
   "cell_type": "markdown",
   "id": "a382fa62",
   "metadata": {},
   "source": [
    "### Amplitude Robustness"
   ]
  },
  {
   "cell_type": "code",
   "execution_count": 38,
   "id": "e38074e0",
   "metadata": {},
   "outputs": [
    {
     "data": {
      "image/png": "[encoded data removed]",
      "text/plain": [
       "<Figure size 432x288 with 1 Axes>"
      ]
     },
     "metadata": {
      "needs_background": "light"
     },
     "output_type": "display_data"
    }
   ],
   "source": [
    "%matplotlib inline\n",
    "from matplotlib import pyplot as plt\n",
    "plt.rc('axes', labelsize=12)\n",
    "def fid(model_params, control_params):\n",
    "    U = solve(model_params, control_params)\n",
    "    return 1 - fidelity_pi(U).data\n",
    "jit_fid_a = jit(lambda p: fid(p, c0))\n",
    "model_params_dir = jnp.array([0., 1.])\n",
    "eps1 = jnp.linspace(-0.2, 0.2, 10)\n",
    "fid_values_a=[jit_fid_a(p) for p in jnp.outer(eps1, model_params_dir)]\n",
    "plt.plot(eps1, fid_values_a, linestyle=\"-\", marker = '', linewidth=2)\n",
    "plt.title(\"Amplitude Robustness Plot\")\n",
    "plt.xlabel('Static Uncertainity (Fractional)')\n",
    "plt.ylabel('1 - Fidelity')\n",
    "plt.tight_layout()"
   ]
  },
  {
   "cell_type": "markdown",
   "id": "f8c140ab",
   "metadata": {},
   "source": [
    "##  Compute Jacobian "
   ]
  },
  {
   "cell_type": "markdown",
   "id": "5c5c63a9",
   "metadata": {},
   "source": [
    "Since jacrev only takes real values, we will vectorize the unitary to yield flattened real value function."
   ]
  },
  {
   "cell_type": "code",
   "execution_count": 39,
   "id": "86ee7514",
   "metadata": {},
   "outputs": [],
   "source": [
    "from jax import jacrev\n",
    "\n",
    "points=jnp.vstack((np.linspace(-0.00001,0.00001,4),np.linspace(0.01,0.03,4)))   ##Points at which to compute jacobian\n",
    "    \n",
    "def real_solve(control_params):\n",
    "    U= jnp.array([solve(x, control_params) for x in points.T])\n",
    "    U = U[:,0:2,0:2]\n",
    "    return jnp.array([U.real, U.imag]).flatten()\n",
    "\n",
    "jacobian = jacrev(real_solve)(c0)"
   ]
  },
  {
   "cell_type": "code",
   "execution_count": 33,
   "id": "9abbb2ff",
   "metadata": {},
   "outputs": [
    {
     "data": {
      "text/plain": [
       "DeviceArray([1.70568057e-01, 6.29324231e-02, 4.05659161e-02,\n",
       "             9.83804860e-03, 6.88931681e-04, 4.04787991e-04,\n",
       "             5.26861443e-05, 1.24832239e-06, 1.10137760e-06,\n",
       "             7.91454832e-07, 4.47290216e-07, 2.47926957e-07,\n",
       "             1.40682213e-07, 2.60475198e-08, 1.02879941e-08,\n",
       "             7.20516046e-09, 2.15716790e-09, 3.95286682e-10,\n",
       "             1.98134120e-10, 1.60051295e-10, 7.62677306e-11,\n",
       "             2.88037365e-11, 1.68929009e-11, 9.76250795e-12],            dtype=float64)"
      ]
     },
     "execution_count": 33,
     "metadata": {},
     "output_type": "execute_result"
    }
   ],
   "source": [
    "u, s, vh = jnp.linalg.svd(jacobian)\n",
    "s\n"
   ]
  },
  {
   "cell_type": "code",
   "execution_count": 222,
   "id": "4967e095",
   "metadata": {},
   "outputs": [
    {
     "data": {
      "text/plain": [
       "DeviceArray([[-4.60926823e-01,  5.26060159e-02,  1.85876987e-01,\n",
       "              -2.17555838e-02,  2.13891336e-02, -1.43446610e-02,\n",
       "               1.71465621e-03, -5.68970925e-03,  5.38015405e-03,\n",
       "              -1.10792639e-03,  2.96151878e-03, -2.08028044e-03,\n",
       "               8.10663479e-01, -1.30550270e-03, -2.99380426e-01,\n",
       "               1.45354227e-02, -3.42424912e-02, -1.20374266e-02,\n",
       "              -2.27762971e-02, -4.83733578e-04, -9.49108608e-03,\n",
       "               9.50569724e-04, -8.30389459e-03, -6.18412325e-04],\n",
       "             [-6.76932483e-01,  1.62653122e-01,  4.68791823e-01,\n",
       "              -1.91282321e-01, -1.28447406e-01,  4.30547095e-02,\n",
       "               1.14846165e-02, -6.03333304e-03, -6.09198261e-03,\n",
       "              -1.43378576e-03, -2.97978980e-03, -1.23334434e-03,\n",
       "              -4.31254388e-01, -6.19085588e-02,  1.89852046e-01,\n",
       "              -7.94444363e-02, -1.38939235e-02,  8.61109363e-02,\n",
       "               1.61142335e-02,  1.26450697e-02,  4.13297586e-03,\n",
       "               1.04191414e-02,  5.12946277e-03,  5.78613087e-03],\n",
       "             [-3.64381216e-01, -4.54429704e-01, -3.37984964e-01,\n",
       "               2.91975856e-01,  3.29055362e-01,  7.47412067e-02,\n",
       "               5.51062268e-02,  1.34682790e-02,  2.59978739e-02,\n",
       "               1.42402686e-02,  2.54385010e-02,  1.26023816e-02,\n",
       "              -3.74217894e-02, -4.68087152e-01,  1.91948038e-01,\n",
       "               2.05637553e-01, -1.41431310e-01,  1.47330019e-01,\n",
       "               8.53187765e-04,  9.04549239e-03, -5.88349487e-03,\n",
       "               2.85489499e-02, -6.27105869e-03,  1.23509922e-02]],            dtype=float64)"
      ]
     },
     "execution_count": 222,
     "metadata": {},
     "output_type": "execute_result"
    }
   ],
   "source": [
    "cal_num = 4\n",
    "cal_direc = vh[:cal_num]\n",
    "cal_direc"
   ]
  },
  {
   "cell_type": "markdown",
   "id": "c106c500",
   "metadata": {},
   "source": [
    "### Plot of Calibration direction"
   ]
  },
  {
   "cell_type": "code",
   "execution_count": 57,
   "id": "dd0e2ade",
   "metadata": {},
   "outputs": [
    {
     "data": {
      "image/png": "[encoded data removed]",
      "text/plain": [
       "<Figure size 432x288 with 1 Axes>"
      ]
     },
     "metadata": {
      "needs_background": "light"
     },
     "output_type": "display_data"
    }
   ],
   "source": [
    "cal_sig = get_parameterized_signal(cal_direc[0])\n",
    "cal_sig.draw(0., T_gate, 300, function='envelope')"
   ]
  },
  {
   "cell_type": "code",
   "execution_count": 37,
   "id": "1a98d658",
   "metadata": {},
   "outputs": [
    {
     "data": {
      "image/png": "[encoded data removed]",
      "text/plain": [
       "<Figure size 432x288 with 1 Axes>"
      ]
     },
     "metadata": {
      "needs_background": "light"
     },
     "output_type": "display_data"
    }
   ],
   "source": [
    "cal_sig = get_parameterized_signal(c0)\n",
    "cal_sig.draw(0., T_gate, 300, function='envelope')"
   ]
  },
  {
   "cell_type": "markdown",
   "id": "ce73d378",
   "metadata": {},
   "source": [
    "## Re-optimisation in singular vector directions"
   ]
  },
  {
   "cell_type": "code",
   "execution_count": 371,
   "id": "f85c4ff9",
   "metadata": {},
   "outputs": [],
   "source": [
    "from jax.scipy.optimize import minimize\n",
    "\n",
    "def run_calibration(model_params, c0, cal_direc):\n",
    "    \n",
    "    def cal_obj(x):\n",
    "        U = solve(model_params, c0 + jnp.tensordot(x, cal_direc, axes=1))\n",
    "        return 1 - fidelity_pi(U).data\n",
    "\n",
    "    results = minimize(cal_obj, x0=np.zeros(len(cal_direc), dtype=float), method='BFGS',options={'maxiter': 120})\n",
    "    return results\n",
    "\n",
    "jit_cal = jit(lambda mp: run_calibration(mp, c0, cal_direc))"
   ]
  },
  {
   "cell_type": "markdown",
   "id": "477851be",
   "metadata": {},
   "source": [
    "### Frequency"
   ]
  },
  {
   "cell_type": "code",
   "execution_count": 372,
   "id": "f1f8fc38",
   "metadata": {},
   "outputs": [],
   "source": [
    "model_params_dir = jnp.array([1., 0.])\n",
    "results0 = [jit_cal(mp) for mp in jnp.outer(eps0, model_params_dir)]"
   ]
  },
  {
   "cell_type": "code",
   "execution_count": 182,
   "id": "dc529eaf",
   "metadata": {},
   "outputs": [
    {
     "data": {
      "text/plain": [
       "<matplotlib.legend.Legend at 0x7fb7e489cf10>"
      ]
     },
     "execution_count": 182,
     "metadata": {},
     "output_type": "execute_result"
    },
    {
     "data": {
      "image/png": "[encoded data removed]",
      "text/plain": [
       "<Figure size 432x288 with 1 Axes>"
      ]
     },
     "metadata": {
      "needs_background": "light"
     },
     "output_type": "display_data"
    }
   ],
   "source": [
    "plt.plot(eps0, [results0[i].fun for i in range(len(eps0))], label='calibrated pulse')\n",
    "plt.plot(eps0, fid_values, label='non-calibrated pulse')\n",
    "plt.xlabel('freq fluctuations')\n",
    "plt.ylabel('Infidelity')\n",
    "plt.legend()"
   ]
  },
  {
   "cell_type": "markdown",
   "id": "212a9b40",
   "metadata": {},
   "source": [
    "### Amplitude"
   ]
  },
  {
   "cell_type": "code",
   "execution_count": 378,
   "id": "c68fb173",
   "metadata": {},
   "outputs": [],
   "source": [
    "model_params_dir = jnp.array([0., 1.])\n",
    "results1 = [jit_cal(mp) for mp in jnp.outer(eps1, model_params_dir)]"
   ]
  },
  {
   "cell_type": "code",
   "execution_count": 188,
   "id": "9c39b482",
   "metadata": {},
   "outputs": [
    {
     "data": {
      "text/plain": [
       "<matplotlib.legend.Legend at 0x7fb7f79d5f10>"
      ]
     },
     "execution_count": 188,
     "metadata": {},
     "output_type": "execute_result"
    },
    {
     "data": {
      "image/png": "[encoded data removed]",
      "text/plain": [
       "<Figure size 432x288 with 1 Axes>"
      ]
     },
     "metadata": {
      "needs_background": "light"
     },
     "output_type": "display_data"
    }
   ],
   "source": [
    "plt.plot(eps1, results1[i].fun for i in range(len(eps1)), label='calibrated pulse')\n",
    "plt.plot(eps1, fid_values_a, label='non-calibrated pulse')\n",
    "plt.xlabel('Amp fluctuations')\n",
    "plt.ylabel('Infidelity')\n",
    "plt.legend()"
   ]
  },
  {
   "cell_type": "markdown",
   "id": "3523a776",
   "metadata": {},
   "source": [
    "# Some other random things\n",
    "\n",
    "## Distortion\n"
   ]
  },
  {
   "cell_type": "code",
   "execution_count": 76,
   "id": "aacb952e",
   "metadata": {},
   "outputs": [],
   "source": [
    "from jax.scipy.signal import convolve\n",
    "from qiskit_dynamics.signals import DiscreteSignal\n",
    "from qiskit_dynamics.signals import Convolution\n",
    "def distortion(params,sigma_d):\n",
    "    def gaus_distort(t):\n",
    "        return 1./(np.sqrt(2.*np.pi))*np.exp(-((t)/sigma_d)**2/2)\n",
    "    conv=Convolution(gaus_distort)\n",
    "    \n",
    "    def construct_smooth_sig(params):\n",
    "        sig=jnp.sum(jnp.multiply(basis, params[0:,None]),0)\n",
    "        smooth_sig=convolve(convolve(sig,convolution_left),convolution_right)\n",
    "        sig_bounded=jnp.arctan(smooth_sig) /(np.pi / 2)\n",
    "        return sig_bounded\n",
    "\n",
    "    def get_parameterized_signal(params):\n",
    "        real_sig=construct_smooth_sig(params[0:(max_deg+1)])\n",
    "        comp_sig=construct_smooth_sig(params[max_deg+1:(2*(max_deg+1))])\n",
    "        smooth_signalr=DiscreteSignal(T/n,real_sig)\n",
    "        smooth_signalc=DiscreteSignal(T/n,comp_sig)\n",
    "        smooth_r=conv(smooth_signalr)\n",
    "        smooth_c=conv(smooth_signalc)\n",
    "        smooth_c.phase=np.pi/2\n",
    "        smooth=(smooth_r+smooth_c).flatten()\n",
    "        smooth.carrier_freq=v\n",
    "        return smooth\n",
    "    def fidelity(U):\n",
    "        U = Array(U[0:2,0:2])\n",
    "        U = U - np.diag(np.diag(U))\n",
    "        return np.abs((U.conj() * U).sum())**2 / 4.\n",
    "    \n",
    "    iX = -1j * 2 * np.pi * r * Array(X)\n",
    "    iN = -1j * 2 * np.pi * v * Array(N)\n",
    "\n",
    "    def construct_generator_parts(params):\n",
    "    \n",
    "        sig = get_parameterized_signal(params)\n",
    "    \n",
    "        def unperturbed_generator(t):\n",
    "            return (sig(t) * rotating_frame.operator_into_frame(t, iX)).data\n",
    "        \n",
    "        def perturb0(t):\n",
    "            return (rotating_frame.operator_into_frame(t, iN)).data\n",
    "    \n",
    "        def perturb1(t):\n",
    "            return (sig(t) * rotating_frame.operator_into_frame(t, iX)).data\n",
    "    \n",
    "        return unperturbed_generator, perturb0, perturb1\n",
    "    \n",
    "    def solve_w_perturbation(params):\n",
    "        generator, perturb0, perturb1 = construct_generator_parts(params)\n",
    "    \n",
    "        results = solve_lmde_perturbation(perturbations=[perturb0, perturb1],t_span=[0, T_gate],\n",
    "            expansion_method='dyson',\n",
    "            expansion_order=1,\n",
    "            generator=generator,\n",
    "            integration_method='jax_odeint',\n",
    "            atol=1e-10, rtol=1e-10\n",
    "        )\n",
    "        return results.y[-1], results.perturbation_results[[0]][-1], results.perturbation_results[[1]][-1]\n",
    "    U, dU0, dU1 = solve_w_perturbation(params)\n",
    "    #return get_parameterized_signal(c0).draw(t0=0,tf=T_gate,n=2000,function='envelope')  ##Use this to see distorted pulse\n",
    "    fid = fidelity(U).data\n",
    "    return 1-fid"
   ]
  },
  {
   "cell_type": "markdown",
   "id": "99aefd7f",
   "metadata": {},
   "source": [
    "## Plot fidelity vs distortion"
   ]
  },
  {
   "cell_type": "code",
   "execution_count": null,
   "id": "6d015c59",
   "metadata": {},
   "outputs": [],
   "source": [
    "values=lambda p: distortion(c0, p)\n",
    "distorted_fid=[values(x) for x in np.linspace(0.01,2,40)]"
   ]
  },
  {
   "cell_type": "code",
   "execution_count": null,
   "id": "ff31edea",
   "metadata": {},
   "outputs": [],
   "source": [
    "plt.plot(np.linspace(0.01,2,40),distorted_fid, linestyle=\"-\", marker = '', linewidth=2)\n",
    "plt.title(\"Pulse Distortion\")\n",
    "plt.xlabel('Width of gaussian')\n",
    "plt.ylabel('1 - Fidelity')\n",
    "plt.tight_layout()"
   ]
  },
  {
   "cell_type": "markdown",
   "id": "ce416009",
   "metadata": {},
   "source": [
    "## SVD singular vectors norms\n",
    " (Other random things I tried, not important i guess)"
   ]
  },
  {
   "cell_type": "code",
   "execution_count": null,
   "id": "50277a4c",
   "metadata": {},
   "outputs": [],
   "source": [
    "from jax import jacrev\n",
    "\n",
    "def real_solve(model_params, control_params):\n",
    "    U = solve(model_params, control_params)\n",
    "    U=U[0:2,0:2]\n",
    "    return jnp.array([U.real, U.imag]).flatten()\n",
    "\n",
    "jacobian = jacrev(real_solve, argnums=1)(np.array([0,0]),best_data)"
   ]
  },
  {
   "cell_type": "code",
   "execution_count": null,
   "id": "6709e12c",
   "metadata": {},
   "outputs": [],
   "source": [
    "u, s, vh = jnp.linalg.svd(jacobian)\n",
    "cal_num = 3\n",
    "cal_direc = vh[:cal_num]\n",
    "subspace = cal_direc.T @ cal_direc"
   ]
  },
  {
   "cell_type": "code",
   "execution_count": null,
   "id": "af3a0ff4",
   "metadata": {},
   "outputs": [],
   "source": [
    "#Norm defined by projection of new singular vectors onto the subspace defined by orginal singular vectors\n",
    "\n",
    "def compute_norm(model_params, best_data):\n",
    "    jacobian1=jacrev(real_solve, argnums=1)(model_params, best_data)\n",
    "    _, _, vh2 = jnp.linalg.svd(jacobian1)\n",
    "    cal_direc1 = vh2[:cal_num]\n",
    "    norm1= jnp.dot(jnp.array([cal_direc1[0]]),jnp.dot(subspace,jnp.array([cal_direc1[0]]).T))\n",
    "    norm2= jnp.dot(jnp.array([cal_direc1[1]]),jnp.dot(subspace,jnp.array([cal_direc1[1]]).T))\n",
    "    norm3= jnp.dot(jnp.array([cal_direc1[2]]),jnp.dot(subspace,jnp.array([cal_direc1[2]]).T))\n",
    "    return jnp.array([norm1,norm2,norm3])"
   ]
  },
  {
   "cell_type": "code",
   "execution_count": null,
   "id": "1211de6a",
   "metadata": {},
   "outputs": [],
   "source": [
    "jit_compute_norm=jit(lambda mp: compute_norm(mp, best_data))"
   ]
  },
  {
   "cell_type": "code",
   "execution_count": null,
   "id": "85ae08fa",
   "metadata": {},
   "outputs": [],
   "source": [
    "#freq fluc\n",
    "model_params_dir = jnp.array([1., 0.])\n",
    "result_norm_freq = [jit_compute_norm(mp) for mp in jnp.outer(eps0, model_params_dir)]"
   ]
  },
  {
   "cell_type": "code",
   "execution_count": null,
   "id": "9caab031",
   "metadata": {},
   "outputs": [],
   "source": [
    "#amplitude fluc\n",
    "model_params_dir = jnp.array([0., 1.])\n",
    "result_norm_amplitude = [jit_compute_norm(mp) for mp in jnp.outer(eps1, model_params_dir)]"
   ]
  },
  {
   "cell_type": "code",
   "execution_count": null,
   "id": "1a53c09b",
   "metadata": {},
   "outputs": [],
   "source": [
    "first=1-np.array([result_norm_amplitude[i][0] for i in range(30)]).ravel()\n",
    "second=1-np.array([result_norm_amplitude[i][1] for i in range(30)]).ravel()\n",
    "third=1-np.array([result_norm_amplitude[i][2] for i in range(30)]).ravel()\n",
    "plt.plot(eps1, first, label='1st singular vector')\n",
    "plt.plot(eps1, second, label='2nd singular vector')\n",
    "plt.plot(eps1, third, label='3rd singular vector')\n",
    "plt.xlabel('Amp fluctuations')\n",
    "plt.ylabel('1 - Projection')\n",
    "plt.legend()\n",
    "plt.show()"
   ]
  },
  {
   "cell_type": "code",
   "execution_count": null,
   "id": "199c6321",
   "metadata": {},
   "outputs": [],
   "source": [
    "first=1-np.array([result_norm_freq[i][0] for i in range(30)]).ravel()\n",
    "second=1-np.array([result_norm_freq[i][1] for i in range(30)]).ravel()\n",
    "third=1-np.array([result_norm_freq[i][2] for i in range(30)]).ravel()\n",
    "plt.plot(eps0, first, label='1st singular vector')\n",
    "plt.plot(eps0, second, label='2nd singular vector')\n",
    "plt.plot(eps0, third, label='3rd singular vector')\n",
    "plt.xlabel('freq fluctuations')\n",
    "plt.ylabel('1 - Projection')\n",
    "plt.legend()\n",
    "plt.show()"
   ]
  },
  {
   "cell_type": "code",
   "execution_count": null,
   "id": "ea8b0983",
   "metadata": {},
   "outputs": [],
   "source": [
    "#Norm defined by distance between the subspaces\n",
    "\n",
    "def compute_norm(model_params, best_data):\n",
    "    jacobian1=jacrev(real_solve, argnums=1)(model_params, best_data)\n",
    "    _, _, vh1 = jnp.linalg.svd(jacobian1)\n",
    "    cal_direc1 = vh1[:cal_num]\n",
    "    new_subspace=cal_direc1.T @ cal_direc1\n",
    "    norm=jnp.linalg.norm(new_subspace-subspace)\n",
    "    return norm"
   ]
  },
  {
   "cell_type": "code",
   "execution_count": null,
   "id": "816cc27d",
   "metadata": {},
   "outputs": [],
   "source": [
    "jit_compute_norm=jit(lambda mp: compute_norm(mp, best_data))"
   ]
  },
  {
   "cell_type": "code",
   "execution_count": null,
   "id": "f0c9b190",
   "metadata": {},
   "outputs": [],
   "source": [
    "#freq fluc\n",
    "model_params_dir = jnp.array([1., 0.])\n",
    "result_norm_freq = [jit_compute_norm(mp) for mp in jnp.outer(eps0, model_params_dir)]"
   ]
  },
  {
   "cell_type": "code",
   "execution_count": null,
   "id": "28a20d2c",
   "metadata": {},
   "outputs": [],
   "source": [
    "#amplitude fluc\n",
    "model_params_dir = jnp.array([0., 1.])\n",
    "result_norm_amplitude = [jit_compute_norm(mp) for mp in jnp.outer(eps1, model_params_dir)]"
   ]
  }
 ],
 "metadata": {
  "kernelspec": {
   "display_name": "Python 3 (ipykernel)",
   "language": "python",
   "name": "python3"
  },
  "language_info": {
   "codemirror_mode": {
    "name": "ipython",
    "version": 3
   },
   "file_extension": ".py",
   "mimetype": "text/x-python",
   "name": "python",
   "nbconvert_exporter": "python",
   "pygments_lexer": "ipython3",
   "version": "3.9.12"
  }
 },
 "nbformat": 4,
 "nbformat_minor": 5
}
